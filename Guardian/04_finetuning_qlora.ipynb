{
 "cells": [
  {
   "cell_type": "code",
   "execution_count": null,
   "id": "88dc34e5-0e6f-48ed-8052-37596547c613",
   "metadata": {
    "tags": []
   },
   "outputs": [],
   "source": [
    "import torch\n",
    "major_version, minor_version = torch.cuda.get_device_capability()\n",
    "!pip install \"unsloth[colab-new] @ git+https://github.com/unslothai/unsloth.git\"\n",
    "if major_version >= 8:\n",
    "    # Use this for new GPUs like Ampere, Hopper GPUs (RTX 30xx, RTX 40xx, A100, H100, L40)\n",
    "    !pip install --no-deps packaging ninja einops flash-attn xformers trl peft accelerate bitsandbytes\n",
    "else:\n",
    "    # Use this for older GPUs (V100, Tesla T4, RTX 20xx)\n",
    "    !pip install --no-deps xformers trl peft accelerate bitsandbytes\n",
    "pass\n",
    "!pip install triton transformers\n",
    "!pip install -U datasets\n",
    "!pip install --pre -U xformers ##### this take some time"
   ]
  },
  {
   "cell_type": "code",
   "execution_count": null,
   "id": "d0b3e6b4-a64a-49b9-bc8e-e7c4e0e98a28",
   "metadata": {
    "tags": []
   },
   "outputs": [],
   "source": [
    "import pandas as pd\n",
    "import torch\n",
    "from torch.utils.data import Dataset, DataLoader\n",
    "from transformers import AutoTokenizer, TrainingArguments, Trainer\n",
    "from transformers import AutoModelForCausalLM\n",
    "from qlora import QLoRAConfig \n",
    "\n"
   ]
  },
  {
   "cell_type": "code",
   "execution_count": null,
   "id": "34de8eac-c6d8-4f8e-9431-f460818e764b",
   "metadata": {
    "tags": []
   },
   "outputs": [],
   "source": [
    "class QADataset(Dataset):\n",
    "    def __init__(self, dataframe, tokenizer, max_length=512):\n",
    "        self.tokenizer = tokenizer\n",
    "        self.data = dataframe\n",
    "        self.max_length = max_length\n",
    "\n",
    "    def __len__(self):\n",
    "        return len(self.data)\n",
    "\n",
    "    def __getitem__(self, idx):\n",
    "        row = self.data.iloc[idx]\n",
    "        title = row['title']\n",
    "        context = row['context']\n",
    "        question = f\"Question: {title}\\n\"\n",
    "        answer = f\"Answer: {context}\\n\"\n",
    "\n",
    "        # Combine question and answer as the input text\n",
    "        input_text = question + answer\n",
    "\n",
    "        # Tokenize the input text\n",
    "        inputs = self.tokenizer(\n",
    "            input_text,\n",
    "            max_length=self.max_length,\n",
    "            padding='max_length',\n",
    "            truncation=True,\n",
    "            return_tensors='pt'\n",
    "        )\n",
    "\n",
    "        input_ids = inputs.input_ids.squeeze()\n",
    "        attention_mask = inputs.attention_mask.squeeze()\n",
    "\n",
    "        return {\n",
    "            'input_ids': input_ids,\n",
    "            'attention_mask': attention_mask,\n",
    "            'labels': input_ids.clone()  # In causal LM, labels are usually the same as input_ids\n",
    "        }\n",
    "\n",
    "\n"
   ]
  },
  {
   "cell_type": "code",
   "execution_count": null,
   "id": "81cc72de-e927-43a3-bde2-e13a29a8c8e9",
   "metadata": {},
   "outputs": [],
   "source": [
    "# Load the training data from CSV\n",
    "dataframe = pd.read_csv('./dataset/qa_va_content_rag.csv')\n",
    "\n",
    "# Initialize the tokenizer\n",
    "model_id = \"meta-llama/Meta-Llama-Guard-2-8B\"\n",
    "tokenizer = AutoTokenizer.from_pretrained(model_id)\n",
    "\n",
    "# Create the dataset\n",
    "dataset = QADataset(dataframe, tokenizer)\n",
    "\n",
    "# Define the QLoRA configuration\n",
    "qlora_config = QLoRAConfig(\n",
    "    model_name_or_path=model_id,\n",
    "    task_name=\"text-generation\",\n",
    "    target_modules=[\"model.decoder.layers.*.self_attn.q_proj\", \"model.decoder.layers.*.self_attn.k_proj\"],\n",
    "    lora_alpha=32,\n",
    "    lora_dropout=0.1,\n",
    "    lora_r=8,\n",
    ")\n",
    "\n",
    "model = AutoModelForCausalLM.from_pretrained(model_id)\n",
    "model = qlora_config.apply_to(model)  # Apply the QLoRA configuration to the model\n",
    "\n",
    "training_args = TrainingArguments(\n",
    "    output_dir='./results',\n",
    "    evaluation_strategy=\"epoch\",\n",
    "    learning_rate=2e-5,\n",
    "    per_device_train_batch_size=4,\n",
    "    per_device_eval_batch_size=4,\n",
    "    num_train_epochs=3,\n",
    "    weight_decay=0.01,\n",
    "    save_total_limit=2,\n",
    "    save_steps=10_000,\n",
    "    logging_dir='./logs',\n",
    "    logging_steps=500,\n",
    ")\n",
    "\n",
    "trainer = Trainer(\n",
    "    model=model,\n",
    "    args=training_args,\n",
    "    train_dataset=dataset,\n",
    "    eval_dataset=dataset,  \n",
    "    tokenizer=tokenizer,\n",
    ")\n",
    "\n",
    "trainer.train()"
   ]
  },
  {
   "cell_type": "code",
   "execution_count": null,
   "id": "fdce9992-6c9e-49f7-ad06-1e976bfacf10",
   "metadata": {},
   "outputs": [],
   "source": [
    "model_save_path = './trained_model'\n",
    "\n",
    "model.save_pretrained(model_save_path)\n",
    "\n",
    "tokenizer.save_pretrained(model_save_path)"
   ]
  }
 ],
 "metadata": {
  "environment": {
   "kernel": "python3",
   "name": ".m121",
   "type": "gcloud",
   "uri": "us-docker.pkg.dev/deeplearning-platform-release/gcr.io/:m121"
  },
  "kernelspec": {
   "display_name": "Python 3 (Local)",
   "language": "python",
   "name": "python3"
  },
  "language_info": {
   "codemirror_mode": {
    "name": "ipython",
    "version": 3
   },
   "file_extension": ".py",
   "mimetype": "text/x-python",
   "name": "python",
   "nbconvert_exporter": "python",
   "pygments_lexer": "ipython3",
   "version": "3.10.14"
  }
 },
 "nbformat": 4,
 "nbformat_minor": 5
}
