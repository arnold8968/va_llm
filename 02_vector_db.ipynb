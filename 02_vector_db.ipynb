{
 "cells": [
  {
   "cell_type": "code",
   "execution_count": 10,
   "id": "374de87c-e38a-494c-a2d9-0c8740c2c4e4",
   "metadata": {
    "tags": []
   },
   "outputs": [],
   "source": [
    "import pandas as pd\n",
    "from langchain.embeddings.sentence_transformer import SentenceTransformerEmbeddings\n",
    "from langchain.vectorstores import Chroma\n",
    "from langchain.schema import Document\n",
    "import os\n",
    "\n",
    "\n"
   ]
  },
  {
   "cell_type": "code",
   "execution_count": 12,
   "id": "4b0c05ac-2a48-4b5f-9407-ce381686c862",
   "metadata": {
    "tags": []
   },
   "outputs": [
    {
     "name": "stderr",
     "output_type": "stream",
     "text": [
      "/opt/conda/lib/python3.10/site-packages/huggingface_hub/file_download.py:1132: FutureWarning: `resume_download` is deprecated and will be removed in version 1.0.0. Downloads always resume when possible. If you want to force a new download, use `force_download=True`.\n",
      "  warnings.warn(\n"
     ]
    },
    {
     "name": "stdout",
     "output_type": "stream",
     "text": [
      "Vector store created and saved locally.\n"
     ]
    },
    {
     "name": "stderr",
     "output_type": "stream",
     "text": [
      "/opt/conda/lib/python3.10/site-packages/langchain_core/_api/deprecation.py:139: LangChainDeprecationWarning: Since Chroma 0.4.x the manual persistence method is no longer supported as docs are automatically persisted.\n",
      "  warn_deprecated(\n"
     ]
    }
   ],
   "source": [
    "\n",
    "    \n",
    "df = pd.read_csv('./dataset/va_content.csv')\n",
    "\n",
    "documents = [Document(page_content=row['title'] +'/n' + row['content'], metadata={'source_url': row['source_url']}) for index, row in df.iterrows()]\n",
    "\n",
    "from langchain.embeddings.sentence_transformer import SentenceTransformerEmbeddings\n",
    "embedding_function = SentenceTransformerEmbeddings(model_name=\"all-MiniLM-L6-v2\")\n",
    "vectordb = Chroma.from_documents(documents, embedding_function,persist_directory=\"./chroma_db_alt\")\n",
    "vectordb.persist()\n",
    "\n",
    "print(\"Vector store created and saved locally.\")"
   ]
  },
  {
   "cell_type": "code",
   "execution_count": 13,
   "id": "6f983037-db47-4793-a6ff-deb7ae2ff09e",
   "metadata": {
    "tags": []
   },
   "outputs": [],
   "source": [
    "# Load the vector store for similarity search\n",
    "vectordb = Chroma(persist_directory=\"./chroma_db_alt\", embedding_function=embedding_function)\n",
    "\n",
    "def similarity_search(query, k=3):\n",
    "    results = vectordb.similarity_search(query, k=k)\n",
    "    return results\n",
    "\n"
   ]
  },
  {
   "cell_type": "code",
   "execution_count": 14,
   "id": "be0b8544-0e5a-45a1-bf2c-0bff8f391c9f",
   "metadata": {
    "tags": []
   },
   "outputs": [
    {
     "data": {
      "text/plain": [
       "[Document(metadata={'source_url': 'https://www.va.gov/disability/after-you-file-claim/'}, page_content='What should I do while I wait?. disability after you file claim/nYou don’t need to do anything unless we send you a letter asking for more information. If we schedule any exams for you, be sure not to miss them. You can check the status of your claim online. The timeline listed there may vary based on how complex your claim is. Check your VA claim status'),\n",
       " Document(metadata={'source_url': 'https://www.va.gov/disability/eligibility/'}, page_content='What should I do if I received an other than honorable, bad conduct, or dishonorable discharge?. disability eligibility/nIf you’ve received one of these discharge statuses, you may not be eligible for VA disability benefits. There are 2 ways you can try to qualify: There are 2 ways you can try to qualify: Find out how to apply for a discharge upgrade Learn about the VA Character of Discharge review process You can file a claim online now. You can also file by mail, in person, or with the help of a trained professional. File for disability compensation online now Learn about other ways to file a disability compensation claim You may be able to get VA disability benefits for conditions like these: You may be able to get VA disability benefits for conditions like these: Chronic (long-lasting) back pain resulting in a current diagnosed back disability Breathing problems resulting from a current lung condition or lung disease Severe hearing loss Scar tissue Loss of range of motion (problems moving your body) Ulcers Cancers or other conditions caused by contact with toxic chemicals or other dangers You may also be able to get VA disability benefits for conditions like these: You may also be able to get VA disability benefits for conditions like these: Anxiety Depression Mental or physical health conditions related to military sexual trauma (MST)Learn about MST and disability compensation Posttraumatic stress disorder (PTSD) Traumatic brain injury (TBI) Go to our Compensation 101 videos to learn more about how VA disability compensation works: Compensation 101: What is disability compensation? (YouTube) Compensation 101: What is service connection? (YouTube)'),\n",
       " Document(metadata={'source_url': 'https://www.va.gov/disability/after-you-file-claim/'}, page_content='What happens after I file a VA disability claim?. disability after you file claim/nClaim received We’ll let you know when we receive your VA disability claim. If you file your claim online,you’ll get an on-screen message from us after you submit the form. If you file your claim online, If you mail your application,we’ll send you a letter to let you know we have your claim. You should get this letter about 1 week, plus mailing time, after we receive your claim. If you mail your application, Initial review We’ll review your claim. Evidence gathering, review, and decision During this step, we’ll do 3 things: Ask for evidence from you, health care providers, government\\xa0agencies, or others Review the evidence Make a decision If we need more evidence during the review, your claim may return to this step more than once. Preparation for notification We’ll get your claim decision packet ready to mail. Claim complete We’ll send you a packet by U.S. mail that includes details of the decision on your claim. Please allow 7 to 10 business days for your packet to arrive before contacting a VA call center.')]"
      ]
     },
     "execution_count": 14,
     "metadata": {},
     "output_type": "execute_result"
    }
   ],
   "source": [
    "# Test the similarity search\n",
    "query = \"What shuold I do after VA disability claim?\"\n",
    "results = similarity_search(query)\n",
    "\n",
    "results"
   ]
  },
  {
   "cell_type": "code",
   "execution_count": null,
   "id": "5225fa4f-1227-4123-a220-b159b6a1ba4f",
   "metadata": {},
   "outputs": [],
   "source": []
  }
 ],
 "metadata": {
  "environment": {
   "kernel": "python3",
   "name": ".m121",
   "type": "gcloud",
   "uri": "us-docker.pkg.dev/deeplearning-platform-release/gcr.io/:m121"
  },
  "kernelspec": {
   "display_name": "Python 3 (Local)",
   "language": "python",
   "name": "python3"
  },
  "language_info": {
   "codemirror_mode": {
    "name": "ipython",
    "version": 3
   },
   "file_extension": ".py",
   "mimetype": "text/x-python",
   "name": "python",
   "nbconvert_exporter": "python",
   "pygments_lexer": "ipython3",
   "version": "3.10.14"
  }
 },
 "nbformat": 4,
 "nbformat_minor": 5
}
